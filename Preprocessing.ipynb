{
  "cells": [
    {
      "cell_type": "markdown",
      "metadata": {
        "id": "view-in-github",
        "colab_type": "text"
      },
      "source": [
        "<a href=\"https://colab.research.google.com/github/RakinAli/AI-course/blob/main/Preprocessing.ipynb\" target=\"_parent\"><img src=\"https://colab.research.google.com/assets/colab-badge.svg\" alt=\"Open In Colab\"/></a>"
      ]
    },
    {
      "cell_type": "markdown",
      "metadata": {
        "id": "cme-dMRqWeUA"
      },
      "source": [
        "# Preprocess\n",
        "This code preprocesses the NASA TIF files and makes them ready for comparision\n",
        "\n",
        "\n"
      ]
    },
    {
      "cell_type": "markdown",
      "metadata": {
        "id": "H2NVeEdgXF5q"
      },
      "source": [
        "## Clipping CHM 10x10, CHM 1x1 and Dynamic World\n",
        "This part of the code is reponsible for \"clipping\" Dynamic world, Canopy Height models so that for each TIF file from NASA, there is a corresponding CHM models for comparision and Dynamic World to filter out everything that is not a tree\n",
        "\n"
      ]
    },
    {
      "cell_type": "code",
      "execution_count": null,
      "metadata": {
        "colab": {
          "base_uri": "https://localhost:8080/"
        },
        "id": "JXqUPQPpYjFz",
        "outputId": "21db8101-f50e-49a4-86e4-7c45810e120e"
      },
      "outputs": [
        {
          "output_type": "stream",
          "name": "stdout",
          "text": [
            "Requirement already satisfied: rasterio in /usr/local/lib/python3.10/dist-packages (1.3.10)\n",
            "Requirement already satisfied: affine in /usr/local/lib/python3.10/dist-packages (from rasterio) (2.4.0)\n",
            "Requirement already satisfied: attrs in /usr/local/lib/python3.10/dist-packages (from rasterio) (23.2.0)\n",
            "Requirement already satisfied: certifi in /usr/local/lib/python3.10/dist-packages (from rasterio) (2024.6.2)\n",
            "Requirement already satisfied: click>=4.0 in /usr/local/lib/python3.10/dist-packages (from rasterio) (8.1.7)\n",
            "Requirement already satisfied: cligj>=0.5 in /usr/local/lib/python3.10/dist-packages (from rasterio) (0.7.2)\n",
            "Requirement already satisfied: numpy in /usr/local/lib/python3.10/dist-packages (from rasterio) (1.25.2)\n",
            "Requirement already satisfied: snuggs>=1.4.1 in /usr/local/lib/python3.10/dist-packages (from rasterio) (1.4.7)\n",
            "Requirement already satisfied: click-plugins in /usr/local/lib/python3.10/dist-packages (from rasterio) (1.1.1)\n",
            "Requirement already satisfied: setuptools in /usr/local/lib/python3.10/dist-packages (from rasterio) (67.7.2)\n",
            "Requirement already satisfied: pyparsing>=2.1.6 in /usr/local/lib/python3.10/dist-packages (from snuggs>=1.4.1->rasterio) (3.1.2)\n",
            "Drive already mounted at /content/drive; to attempt to forcibly remount, call drive.mount(\"/content/drive\", force_remount=True).\n"
          ]
        }
      ],
      "source": [
        "!pip install rasterio\n",
        "from google.colab import drive\n",
        "drive.mount('/content/drive')"
      ]
    },
    {
      "cell_type": "code",
      "source": [
        "\"\"\"\n",
        "This code is reponsible for \"clipping\" Dynamic world, Canopy Height models so that for each TIF file from NASA, there is a corresponding CHM models for comparision and Dynamic World to filter out everything that is not a tree\n",
        "\"\"\"\n",
        "# Imports\n",
        "import rasterio\n",
        "import os\n",
        "import ee\n",
        "import time\n",
        "import sys\n",
        "from tqdm import tqdm\n",
        "from datetime import datetime, timedelta\n",
        "import pyproj\n",
        "from pyproj import Transformer\n",
        "import geemap\n",
        "import geopandas as gpd\n",
        "from shapely.geometry import box\n",
        "from pathlib import Path\n",
        "import requests\n",
        "import shutil\n",
        "\n",
        "\n",
        "\n",
        "# Directory in Google drive <-- Modify so that it points to your datasets\n",
        "#DATASET_PATH = \"/content/drive/MyDrive/Summer internship - Research/Canopy_height_summer2024/Dataset/\"\n",
        "\n",
        "# Earth Engine stuff\n",
        "ee.Authenticate()\n",
        "ee.Initialize(project=\"ee-rakinali00\") #<-- change this\n",
        "\n",
        "# Global Variables\n",
        "CHM_10X10 = ee.Image(\"users/nlang/ETH_GlobalCanopyHeight_2020_10m_v1\")\n",
        "dynamic_world = ee.ImageCollection(\"GOOGLE/DYNAMICWORLD/V1\")\n",
        "CHM_1x1 = ee.ImageCollection(\"projects/meta-forest-monitoring-okw37/assets/CanopyHeight\")\n",
        "from pyproj import Transformer\n",
        "\n",
        "\n",
        "ROOT_PATH = Path(\"/content/drive/MyDrive/Summer internship - Research/Canopy_height_summer2024/Dataset/2017/NASA TIF Files\")\n",
        "fl = 'ME_20170817_CMSX2_l0s99_CHM.tif'\n",
        "with rasterio.open(ROOT_PATH/fl) as img:\n",
        "    xmin, ymin, xmax, ymax = img.bounds\n",
        "    transformer = Transformer.from_crs(img.crs, \"EPSG:4326\", always_xy=True)\n",
        "    x1, y1 = transformer.transform(xmin,ymax)\n",
        "    x2, y2 = transformer.transform(xmax,ymin)\n",
        "aoi = ee.Geometry.Polygon([[x1, y1], [x1, y2], [x2, y2], [x2, y1], [x1, y1]])\n",
        "\n",
        "START_DATE = ee.Date(str(2021)+ '-01-01')\n",
        "END_DATE = START_DATE.advance(11,\"month\")\n",
        "image = ee.ImageCollection(\"GOOGLE/DYNAMICWORLD/V1\").filterDate(START_DATE, END_DATE).median().clip(aoi)\n",
        "proj = ee.Projection('EPSG:32619')\n",
        "SCALE = 10\n",
        "if len(image.bandNames().getInfo())>0:\n",
        "    url2 = image.getDownloadURL({'scale': SCALE,'region':aoi, 'format': \"GEO_TIFF\", 'formatOptions': {'cloudOptimized': True}, 'crs': proj})\n",
        "\n",
        "    # Handle downloading the actual pixels.\n",
        "    r = requests.get(url2, stream=True)\n",
        "    if r.status_code != 200:\n",
        "        r.raise_for_status()\n",
        "    filename = 'down_test.tif'\n",
        "    with open(filename, 'wb') as out_file:\n",
        "        shutil.copyfileobj(r.raw, out_file)\n"
      ],
      "metadata": {
        "id": "3bb5n5lJNDvN",
        "colab": {
          "base_uri": "https://localhost:8080/",
          "height": 17
        },
        "outputId": "a931645b-8056-4e6e-c8eb-721b9f664be1"
      },
      "execution_count": null,
      "outputs": [
        {
          "output_type": "display_data",
          "data": {
            "text/plain": [
              "<IPython.core.display.HTML object>"
            ],
            "text/html": [
              "\n",
              "            <style>\n",
              "                .geemap-dark {\n",
              "                    --jp-widgets-color: white;\n",
              "                    --jp-widgets-label-color: white;\n",
              "                    --jp-ui-font-color1: white;\n",
              "                    --jp-layout-color2: #454545;\n",
              "                    background-color: #383838;\n",
              "                }\n",
              "\n",
              "                .geemap-dark .jupyter-button {\n",
              "                    --jp-layout-color3: #383838;\n",
              "                }\n",
              "\n",
              "                .geemap-colab {\n",
              "                    background-color: var(--colab-primary-surface-color, white);\n",
              "                }\n",
              "\n",
              "                .geemap-colab .jupyter-button {\n",
              "                    --jp-layout-color3: var(--colab-primary-surface-color, white);\n",
              "                }\n",
              "            </style>\n",
              "            "
            ]
          },
          "metadata": {}
        }
      ]
    },
    {
      "cell_type": "code",
      "execution_count": null,
      "metadata": {
        "id": "9RPxjebTXI8v",
        "colab": {
          "base_uri": "https://localhost:8080/",
          "height": 193
        },
        "outputId": "cbc969a0-913a-48f3-b828-296963873aa1"
      },
      "outputs": [
        {
          "output_type": "display_data",
          "data": {
            "text/plain": [
              "<IPython.core.display.HTML object>"
            ],
            "text/html": [
              "\n",
              "            <style>\n",
              "                .geemap-dark {\n",
              "                    --jp-widgets-color: white;\n",
              "                    --jp-widgets-label-color: white;\n",
              "                    --jp-ui-font-color1: white;\n",
              "                    --jp-layout-color2: #454545;\n",
              "                    background-color: #383838;\n",
              "                }\n",
              "\n",
              "                .geemap-dark .jupyter-button {\n",
              "                    --jp-layout-color3: #383838;\n",
              "                }\n",
              "\n",
              "                .geemap-colab {\n",
              "                    background-color: var(--colab-primary-surface-color, white);\n",
              "                }\n",
              "\n",
              "                .geemap-colab .jupyter-button {\n",
              "                    --jp-layout-color3: var(--colab-primary-surface-color, white);\n",
              "                }\n",
              "            </style>\n",
              "            "
            ]
          },
          "metadata": {}
        },
        {
          "output_type": "stream",
          "name": "stdout",
          "text": [
            "Total files: 8215\n"
          ]
        },
        {
          "output_type": "stream",
          "name": "stderr",
          "text": [
            "\r  0%|          | 0/8215 [00:00<?, ?it/s]"
          ]
        },
        {
          "output_type": "stream",
          "name": "stdout",
          "text": [
            "one more print below\n",
            "I am working\n"
          ]
        },
        {
          "output_type": "stream",
          "name": "stderr",
          "text": [
            "\r  0%|          | 0/8215 [00:03<?, ?it/s]\n"
          ]
        },
        {
          "output_type": "error",
          "ename": "SystemExit",
          "evalue": "Check if the files land where they are supposed to",
          "traceback": [
            "An exception has occurred, use %tb to see the full traceback.\n",
            "\u001b[0;31mSystemExit\u001b[0m\u001b[0;31m:\u001b[0m Check if the files land where they are supposed to\n"
          ]
        },
        {
          "output_type": "stream",
          "name": "stderr",
          "text": [
            "/usr/local/lib/python3.10/dist-packages/IPython/core/interactiveshell.py:3561: UserWarning: To exit: use 'exit', 'quit', or Ctrl-D.\n",
            "  warn(\"To exit: use 'exit', 'quit', or Ctrl-D.\", stacklevel=1)\n"
          ]
        }
      ],
      "source": [
        "\"\"\"\n",
        "This code is reponsible for \"clipping\" Dynamic world, Canopy Height models so that for each TIF file from NASA, there is a corresponding CHM models for comparision and Dynamic World to filter out everything that is not a tree\n",
        "\"\"\"\n",
        "# Imports\n",
        "import rasterio\n",
        "import os\n",
        "import ee\n",
        "import time\n",
        "import sys\n",
        "from tqdm import tqdm\n",
        "from datetime import datetime, timedelta\n",
        "import pyproj\n",
        "from pyproj import Transformer\n",
        "import geemap\n",
        "import geopandas as gpd\n",
        "from shapely.geometry import box\n",
        "import requests\n",
        "import shutil\n",
        "\n",
        "# Directory in Google drive <-- Modify so that it points to your datasets\n",
        "DATASET_PATH = \"/content/drive/MyDrive/Summer internship - Research/Canopy_height_summer2024/Dataset/\"\n",
        "\n",
        "# Earth Engine stuff <-- MODIFY\n",
        "ee.Authenticate()\n",
        "ee.Initialize(project=\"ee-rakinali00\") #<-- change this\n",
        "\n",
        "# Global Variables\n",
        "CHM_10X10 = ee.Image(\"users/nlang/ETH_GlobalCanopyHeight_2020_10m_v1\")\n",
        "dynamic_world = ee.ImageCollection(\"GOOGLE/DYNAMICWORLD/V1\")\n",
        "CHM_1x1 = ee.ImageCollection(\"projects/meta-forest-monitoring-okw37/assets/CanopyHeight\")\n",
        "\n",
        "# Check if paths exists. Returns true or sys.exit()\n",
        "def check_path(path):\n",
        "  if not os.path.exists(path):\n",
        "    print(\"Path: \", path)\n",
        "    print(\"Path does not exist\")\n",
        "    sys.exit()\n",
        "  else:\n",
        "    return True\n",
        "\n",
        "def make_dir(path):\n",
        "  if not os.path.exists(path):\n",
        "    os.makedirs(path)\n",
        "\n",
        "\n",
        "def get_dateRange(file):\n",
        "    \"\"\"\n",
        "    The fileName contains the date. The date however is a bit hard to extract.\n",
        "    The date is needed for Dynamic World. We try to extract the date from the\n",
        "    FileName. This code was admittedly hardcoded\n",
        "    \"\"\"\n",
        "    # Print the name of the file\n",
        "    parts = file.split(\"_\")\n",
        "\n",
        "    # Determine which part of the filename contains the date\n",
        "    date_str = None\n",
        "    for part in parts:\n",
        "        # Check if the part is in the YYYYMMDD format\n",
        "        if len(part) == 8 and part.isdigit():\n",
        "            date_str = part\n",
        "            break\n",
        "        # Check if the part has both digits and alphabets (e.g., 12March2017)\n",
        "        elif any(char.isdigit() for char in part) and any(char.isalpha() for char in part):\n",
        "            date_str = part\n",
        "            break\n",
        "\n",
        "    if date_str is None:\n",
        "        print(\"File:\", file)\n",
        "        sys.exit(\"Cannot handle for now\")\n",
        "\n",
        "    try:\n",
        "        # Check if the date_str is in the format YYYYMMDD\n",
        "        if len(date_str) == 8 and date_str.isdigit():\n",
        "            year = int(date_str[:4])\n",
        "            month = int(date_str[4:6])\n",
        "            day = int(date_str[6:])\n",
        "            start_date = datetime(year, month, day)\n",
        "        # Check if it has any alphabets, then it's Date-Name of Month-Year format\n",
        "        elif any(char.isalpha() for char in date_str):\n",
        "            try:\n",
        "                start_date = datetime.strptime(date_str, \"%d%B%Y\")\n",
        "            except ValueError:\n",
        "                start_date = datetime.strptime(date_str, \"%d%b%Y\")\n",
        "        else:\n",
        "            print(\"File:\", file)\n",
        "            sys.exit(\"Cannot handle for now\")\n",
        "\n",
        "        end_date = start_date + timedelta(days=10)\n",
        "    except ValueError as e:\n",
        "        print(f\"Error parsing date from file {file}: {e}\")\n",
        "        sys.exit(\"Cannot handle for now\")\n",
        "\n",
        "    return ee.Date(start_date.strftime(\"%Y-%m-%d\")), ee.Date(end_date.strftime(\"%Y-%m-%d\"))\n",
        "\n",
        "\n",
        "\n",
        "def download_image(image,out_outdirectory,scale,bbox,crs,fileName):\n",
        "    url = image.getDownloadURL({'scale': scale,'region':bbox, 'format': \"GEO_TIFF\", 'formatOptions': {'cloudOptimized': True}, 'crs': crs})\n",
        "    r = requests.get(url, stream=True)\n",
        "    if r.status_code != 200:\n",
        "        r.raise_for_status()\n",
        "\n",
        "    filename = os.path.join(out_outdirectory,fileName)\n",
        "    with open(filename, 'wb') as out_file:\n",
        "        shutil.copyfileobj(r.raw, out_file)\n",
        "\n",
        "def get_bbox(raster_file_path, target_crs=\"EPSG:4326\"):\n",
        "    \"\"\"\n",
        "    Extracts the bounding box from a raster file, transforms it to the specified CRS,\n",
        "    and returns the bounding box as an Earth Engine Geometry Polygon.\n",
        "\n",
        "    Parameters:\n",
        "    raster_file_path (str): Path to the raster file.\n",
        "    target_crs (str): The target CRS to transform the bounding box coordinates. Default is \"EPSG:4326\".\n",
        "\n",
        "    Returns:\n",
        "    ee.Geometry.Polygon: The bounding box as an Earth Engine Geometry Polygon.\n",
        "    \"\"\"\n",
        "    with rasterio.open(raster_file_path) as src:\n",
        "        xmin, ymin, xmax, ymax = src.bounds\n",
        "        transformer = Transformer.from_crs(src.crs, target_crs, always_xy=True)\n",
        "        x1, y1 = transformer.transform(xmin, ymax)\n",
        "        x2, y2 = transformer.transform(xmax, ymin)\n",
        "        projection = src.crs.to_string()\n",
        "\n",
        "    bbox = ee.Geometry.Polygon([[x1, y1], [x1, y2], [x2, y2], [x2, y1], [x1, y1]])\n",
        "    return bbox, projection\n",
        "\n",
        "\n",
        "def clipping(year):\n",
        "    \"\"\"\n",
        "    Algorithm:\n",
        "    1.  First check if path exists and there exists TIF files\n",
        "\n",
        "    2.  For each TIF file, get the bounding box and clip the same area in CHM\n",
        "        models and Dynamic world\n",
        "\n",
        "    3.\n",
        "    \"\"\"\n",
        "    tif_files_path = os.path.join(DATASET_PATH, year + \"/NASA TIF Files/\")\n",
        "    if check_path(tif_files_path):\n",
        "        total_files = len(os.listdir(tif_files_path))\n",
        "        if total_files == 0:\n",
        "            sys.exit(\"There are no files in NASA TIF Files\")\n",
        "        print(\"Total files:\", total_files)\n",
        "\n",
        "    for file in tqdm(os.listdir(tif_files_path)):\n",
        "        bbox, projection = get_bbox(os.path.join(tif_files_path, file))\n",
        "\n",
        "        # Start and end date of the file\n",
        "        start_date, end_date = get_dateRange(file)\n",
        "        dynamic_world_filter = (dynamic_world.filterDate(start_date, end_date).filterBounds(bbox)).median().clip(bbox)\n",
        "        chm_1x1_filter = (CHM_1x1).filterBounds(bbox).first()\n",
        "\n",
        "        # Output directory\n",
        "        CHM_10X10_OUTDIR = os.path.join(DATASET_PATH, year + \"/CHM_10X10\")\n",
        "        CHM_1x1_OUTDIR = os.path.join(DATASET_PATH, year + \"/CHM_1x1/\")\n",
        "        dynamic_world_OUTDIR = os.path.join(DATASET_PATH, year + \"/Dynamic_World/\")\n",
        "        make_dir(CHM_10X10_OUTDIR)\n",
        "        make_dir(CHM_1x1_OUTDIR)\n",
        "        make_dir(dynamic_world_OUTDIR)\n",
        "        print(\"one more print below\")\n",
        "        if len(dynamic_world_filter.bandNames().getInfo()) > 0:\n",
        "            fileName_dw = file[:-4] + \"_dw.tif\"\n",
        "            download_image(dynamic_world_filter,dynamic_world_OUTDIR,10,bbox,projection,fileName_dw)\n",
        "            print(\"I am working\")\n",
        "\n",
        "        else:\n",
        "          print(\"File \",file ,\" has been skipped\")\n",
        "          continue\n",
        "        download_image(CHM_10X10,CHM_10X10_OUTDIR,10,bbox,projection,file[:-4]+\"_ch10.tif\")\n",
        "        download_image(chm_1x1_filter,CHM_1x1_OUTDIR,1,bbox,projection,file[:-4]+\"_ch1.tif\")\n",
        "\n",
        "def main():\n",
        "  clipping(\"2017\")\n",
        "\n",
        "if __name__ == '__main__':\n",
        "  main()"
      ]
    },
    {
      "cell_type": "markdown",
      "source": [
        "### Faster variant\n",
        "The code ran too slow so I addded Concurrency and batch requests. This massively speeds up the progression\n"
      ],
      "metadata": {
        "id": "jaQMUAxIbEUp"
      }
    },
    {
      "cell_type": "code",
      "source": [
        "\"\"\"\n",
        "This code is responsible for \"clipping\" Dynamic world, Canopy Height models so that for each TIF file from NASA, there is a corresponding CHM models for comparison and Dynamic World to filter out everything that is not a tree\n",
        "\"\"\"\n",
        "\n",
        "# Imports\n",
        "import rasterio\n",
        "import os\n",
        "import ee\n",
        "import sys\n",
        "from tqdm import tqdm\n",
        "from datetime import datetime, timedelta\n",
        "from pyproj import Transformer\n",
        "import requests\n",
        "import shutil\n",
        "import concurrent.futures\n",
        "\n",
        "# Directory in Google drive <-- Modify so that it points to your datasets\n",
        "DATASET_PATH = \"/content/drive/MyDrive/Summer internship - Research/Canopy_height_summer2024/Dataset/\"\n",
        "\n",
        "# Earth Engine setup <-- MODIFY\n",
        "ee.Authenticate()\n",
        "ee.Initialize(project=\"ee-rakinali00\")  # Change this\n",
        "\n",
        "# Global Variables\n",
        "CHM_10X10 = ee.Image(\"users/nlang/ETH_GlobalCanopyHeight_2020_10m_v1\")\n",
        "dynamic_world = ee.ImageCollection(\"GOOGLE/DYNAMICWORLD/V1\")\n",
        "CHM_1x1 = ee.ImageCollection(\"projects/meta-forest-monitoring-okw37/assets/CanopyHeight\")\n",
        "\n",
        "# Check if paths exists. Returns true or sys.exit()\n",
        "def check_path(path):\n",
        "    if not os.path.exists(path):\n",
        "        print(\"Path: \", path)\n",
        "        print(\"Path does not exist\")\n",
        "        sys.exit()\n",
        "    else:\n",
        "        return True\n",
        "\n",
        "def make_dir(path):\n",
        "    if not os.path.exists(path):\n",
        "        os.makedirs(path) # Create directory if it doesn't exist\n",
        "\n",
        "\n",
        "def get_dateRange(file):\n",
        "    \"\"\"\n",
        "    Extracts the date range from the filename.\n",
        "    \"\"\"\n",
        "    parts = os.path.basename(file).split(\"_\")\n",
        "    date_str = None\n",
        "    for part in parts:\n",
        "        if len(part) == 8 and part.isdigit():\n",
        "            date_str = part\n",
        "            break\n",
        "\n",
        "    if date_str is None:\n",
        "        print(f\"File: {file}\")\n",
        "        print(\"Cannot parse date from file name\")\n",
        "        return None, None\n",
        "\n",
        "    try:\n",
        "        start_date = datetime.strptime(date_str, \"%Y%m%d\")\n",
        "        end_date = start_date + timedelta(days=10)\n",
        "    except ValueError as e:\n",
        "        print(f\"Error parsing date from file {file}: {e}\")\n",
        "        return None, None\n",
        "\n",
        "    return ee.Date(start_date.strftime(\"%Y-%m-%d\")), ee.Date(end_date.strftime(\"%Y-%m-%d\"))\n",
        "\n",
        "\n",
        "def download_image(image, out_directory, scale, bbox, crs, file_name):\n",
        "    url = image.getDownloadURL({'scale': scale, 'region': bbox, 'format': \"GEO_TIFF\", 'formatOptions': {'cloudOptimized': True}, 'crs': crs})\n",
        "    r = requests.get(url, stream=True)\n",
        "    if r.status_code != 200:\n",
        "        r.raise_for_status()\n",
        "\n",
        "    filename = os.path.join(out_directory, file_name)\n",
        "    with open(filename, 'wb') as out_file:\n",
        "        shutil.copyfileobj(r.raw, out_file)\n",
        "\n",
        "def get_bbox(raster_file_path, target_crs=\"EPSG:4326\"):\n",
        "    \"\"\"\n",
        "    Extracts the bounding box from a raster file, transforms it to the specified CRS,\n",
        "    and returns the bounding box as an Earth Engine Geometry Polygon.\n",
        "    \"\"\"\n",
        "    with rasterio.open(raster_file_path) as src:\n",
        "        xmin, ymin, xmax, ymax = src.bounds\n",
        "        transformer = Transformer.from_crs(src.crs, target_crs, always_xy=True)\n",
        "        x1, y1 = transformer.transform(xmin, ymax)\n",
        "        x2, y2 = transformer.transform(xmax, ymin)\n",
        "        projection = src.crs.to_string()\n",
        "\n",
        "    bbox = ee.Geometry.Polygon([[x1, y1], [x1, y2], [x2, y2], [x2, y1], [x1, y1]])\n",
        "    return bbox, projection\n",
        "\n",
        "def process_file(file_path, year):\n",
        "    bbox, projection = get_bbox(file_path)\n",
        "    start_date, end_date = get_dateRange(file_path)\n",
        "\n",
        "    dynamic_world_filter = (dynamic_world.filterDate(start_date, end_date).filterBounds(bbox)).median().clip(bbox)\n",
        "    chm_1x1_filter = CHM_1x1.filterBounds(bbox).first()\n",
        "\n",
        "    # Output directories\n",
        "    CHM_10X10_OUTDIR = os.path.join(DATASET_PATH, year + \"/CHM_10X10\")\n",
        "    CHM_1x1_OUTDIR = os.path.join(DATASET_PATH, year + \"/CHM_1x1/\")\n",
        "    dynamic_world_OUTDIR = os.path.join(DATASET_PATH, year + \"/Dynamic_World/\")\n",
        "    make_dir(CHM_10X10_OUTDIR)\n",
        "    make_dir(CHM_1x1_OUTDIR)\n",
        "    make_dir(dynamic_world_OUTDIR)\n",
        "\n",
        "    if len(dynamic_world_filter.bandNames().getInfo()) > 0:\n",
        "        file_name_dw = os.path.basename(file_path)[:-4] + \"_dw.tif\"\n",
        "        download_image(dynamic_world_filter, dynamic_world_OUTDIR, 10, bbox, projection, file_name_dw)\n",
        "    else:\n",
        "        print(\"File\", file_path, \"has been skipped\")\n",
        "        return\n",
        "\n",
        "    download_image(CHM_10X10, CHM_10X10_OUTDIR, 10, bbox, projection, os.path.basename(file_path)[:-4] + \"_ch10.tif\")\n",
        "    download_image(chm_1x1_filter, CHM_1x1_OUTDIR, 1, bbox, projection, os.path.basename(file_path)[:-4] + \"_ch1.tif\")\n",
        "\n",
        "def clipping(year):\n",
        "    \"\"\"\n",
        "    Process each TIF file for the specified year.\n",
        "    \"\"\"\n",
        "    tif_files_path = os.path.join(DATASET_PATH, year + \"/NASA TIF Files/\")\n",
        "    if check_path(tif_files_path):\n",
        "        tif_files = [os.path.join(tif_files_path, file) for file in os.listdir(tif_files_path) if file.endswith('.tif')]\n",
        "        if not tif_files:\n",
        "            sys.exit(\"There are no files in NASA TIF Files\")\n",
        "        print(\"Total files:\", len(tif_files))\n",
        "\n",
        "    with concurrent.futures.ThreadPoolExecutor() as executor:\n",
        "        list(tqdm(executor.map(lambda file: process_file(file, year), tif_files), total=len(tif_files)))\n",
        "\n",
        "def main():\n",
        "    clipping(\"2017\")\n",
        "\n",
        "if __name__ == '__main__':\n",
        "    main()\n"
      ],
      "metadata": {
        "colab": {
          "base_uri": "https://localhost:8080/",
          "height": 356
        },
        "id": "IO9ihj10bF0Z",
        "outputId": "42987b47-f6ec-454b-c4b5-b4ccbd4a79fa"
      },
      "execution_count": 57,
      "outputs": [
        {
          "output_type": "display_data",
          "data": {
            "text/plain": [
              "<IPython.core.display.HTML object>"
            ],
            "text/html": [
              "\n",
              "            <style>\n",
              "                .geemap-dark {\n",
              "                    --jp-widgets-color: white;\n",
              "                    --jp-widgets-label-color: white;\n",
              "                    --jp-ui-font-color1: white;\n",
              "                    --jp-layout-color2: #454545;\n",
              "                    background-color: #383838;\n",
              "                }\n",
              "\n",
              "                .geemap-dark .jupyter-button {\n",
              "                    --jp-layout-color3: #383838;\n",
              "                }\n",
              "\n",
              "                .geemap-colab {\n",
              "                    background-color: var(--colab-primary-surface-color, white);\n",
              "                }\n",
              "\n",
              "                .geemap-colab .jupyter-button {\n",
              "                    --jp-layout-color3: var(--colab-primary-surface-color, white);\n",
              "                }\n",
              "            </style>\n",
              "            "
            ]
          },
          "metadata": {}
        },
        {
          "output_type": "stream",
          "name": "stdout",
          "text": [
            "Total files: 8215\n"
          ]
        },
        {
          "output_type": "stream",
          "name": "stderr",
          "text": [
            "  1%|          | 45/8215 [00:58<2:57:03,  1.30s/it]\n"
          ]
        },
        {
          "output_type": "error",
          "ename": "KeyboardInterrupt",
          "evalue": "",
          "traceback": [
            "\u001b[0;31m---------------------------------------------------------------------------\u001b[0m",
            "\u001b[0;31mKeyboardInterrupt\u001b[0m                         Traceback (most recent call last)",
            "\u001b[0;32m<ipython-input-57-befff581e9c3>\u001b[0m in \u001b[0;36m<cell line: 136>\u001b[0;34m()\u001b[0m\n\u001b[1;32m    135\u001b[0m \u001b[0;34m\u001b[0m\u001b[0m\n\u001b[1;32m    136\u001b[0m \u001b[0;32mif\u001b[0m \u001b[0m__name__\u001b[0m \u001b[0;34m==\u001b[0m \u001b[0;34m'__main__'\u001b[0m\u001b[0;34m:\u001b[0m\u001b[0;34m\u001b[0m\u001b[0;34m\u001b[0m\u001b[0m\n\u001b[0;32m--> 137\u001b[0;31m     \u001b[0mmain\u001b[0m\u001b[0;34m(\u001b[0m\u001b[0;34m)\u001b[0m\u001b[0;34m\u001b[0m\u001b[0;34m\u001b[0m\u001b[0m\n\u001b[0m",
            "\u001b[0;32m<ipython-input-57-befff581e9c3>\u001b[0m in \u001b[0;36mmain\u001b[0;34m()\u001b[0m\n\u001b[1;32m    132\u001b[0m \u001b[0;34m\u001b[0m\u001b[0m\n\u001b[1;32m    133\u001b[0m \u001b[0;32mdef\u001b[0m \u001b[0mmain\u001b[0m\u001b[0;34m(\u001b[0m\u001b[0;34m)\u001b[0m\u001b[0;34m:\u001b[0m\u001b[0;34m\u001b[0m\u001b[0;34m\u001b[0m\u001b[0m\n\u001b[0;32m--> 134\u001b[0;31m     \u001b[0mclipping\u001b[0m\u001b[0;34m(\u001b[0m\u001b[0;34m\"2017\"\u001b[0m\u001b[0;34m)\u001b[0m\u001b[0;34m\u001b[0m\u001b[0;34m\u001b[0m\u001b[0m\n\u001b[0m\u001b[1;32m    135\u001b[0m \u001b[0;34m\u001b[0m\u001b[0m\n\u001b[1;32m    136\u001b[0m \u001b[0;32mif\u001b[0m \u001b[0m__name__\u001b[0m \u001b[0;34m==\u001b[0m \u001b[0;34m'__main__'\u001b[0m\u001b[0;34m:\u001b[0m\u001b[0;34m\u001b[0m\u001b[0;34m\u001b[0m\u001b[0m\n",
            "\u001b[0;32m<ipython-input-57-befff581e9c3>\u001b[0m in \u001b[0;36mclipping\u001b[0;34m(year)\u001b[0m\n\u001b[1;32m    129\u001b[0m \u001b[0;34m\u001b[0m\u001b[0m\n\u001b[1;32m    130\u001b[0m     \u001b[0;32mwith\u001b[0m \u001b[0mconcurrent\u001b[0m\u001b[0;34m.\u001b[0m\u001b[0mfutures\u001b[0m\u001b[0;34m.\u001b[0m\u001b[0mThreadPoolExecutor\u001b[0m\u001b[0;34m(\u001b[0m\u001b[0;34m)\u001b[0m \u001b[0;32mas\u001b[0m \u001b[0mexecutor\u001b[0m\u001b[0;34m:\u001b[0m\u001b[0;34m\u001b[0m\u001b[0;34m\u001b[0m\u001b[0m\n\u001b[0;32m--> 131\u001b[0;31m         \u001b[0mlist\u001b[0m\u001b[0;34m(\u001b[0m\u001b[0mtqdm\u001b[0m\u001b[0;34m(\u001b[0m\u001b[0mexecutor\u001b[0m\u001b[0;34m.\u001b[0m\u001b[0mmap\u001b[0m\u001b[0;34m(\u001b[0m\u001b[0;32mlambda\u001b[0m \u001b[0mfile\u001b[0m\u001b[0;34m:\u001b[0m \u001b[0mprocess_file\u001b[0m\u001b[0;34m(\u001b[0m\u001b[0mfile\u001b[0m\u001b[0;34m,\u001b[0m \u001b[0myear\u001b[0m\u001b[0;34m)\u001b[0m\u001b[0;34m,\u001b[0m \u001b[0mtif_files\u001b[0m\u001b[0;34m)\u001b[0m\u001b[0;34m,\u001b[0m \u001b[0mtotal\u001b[0m\u001b[0;34m=\u001b[0m\u001b[0mlen\u001b[0m\u001b[0;34m(\u001b[0m\u001b[0mtif_files\u001b[0m\u001b[0;34m)\u001b[0m\u001b[0;34m)\u001b[0m\u001b[0;34m)\u001b[0m\u001b[0;34m\u001b[0m\u001b[0;34m\u001b[0m\u001b[0m\n\u001b[0m\u001b[1;32m    132\u001b[0m \u001b[0;34m\u001b[0m\u001b[0m\n\u001b[1;32m    133\u001b[0m \u001b[0;32mdef\u001b[0m \u001b[0mmain\u001b[0m\u001b[0;34m(\u001b[0m\u001b[0;34m)\u001b[0m\u001b[0;34m:\u001b[0m\u001b[0;34m\u001b[0m\u001b[0;34m\u001b[0m\u001b[0m\n",
            "\u001b[0;32m/usr/local/lib/python3.10/dist-packages/tqdm/std.py\u001b[0m in \u001b[0;36m__iter__\u001b[0;34m(self)\u001b[0m\n\u001b[1;32m   1179\u001b[0m \u001b[0;34m\u001b[0m\u001b[0m\n\u001b[1;32m   1180\u001b[0m         \u001b[0;32mtry\u001b[0m\u001b[0;34m:\u001b[0m\u001b[0;34m\u001b[0m\u001b[0;34m\u001b[0m\u001b[0m\n\u001b[0;32m-> 1181\u001b[0;31m             \u001b[0;32mfor\u001b[0m \u001b[0mobj\u001b[0m \u001b[0;32min\u001b[0m \u001b[0miterable\u001b[0m\u001b[0;34m:\u001b[0m\u001b[0;34m\u001b[0m\u001b[0;34m\u001b[0m\u001b[0m\n\u001b[0m\u001b[1;32m   1182\u001b[0m                 \u001b[0;32myield\u001b[0m \u001b[0mobj\u001b[0m\u001b[0;34m\u001b[0m\u001b[0;34m\u001b[0m\u001b[0m\n\u001b[1;32m   1183\u001b[0m                 \u001b[0;31m# Update and possibly print the progressbar.\u001b[0m\u001b[0;34m\u001b[0m\u001b[0;34m\u001b[0m\u001b[0m\n",
            "\u001b[0;32m/usr/lib/python3.10/concurrent/futures/_base.py\u001b[0m in \u001b[0;36mresult_iterator\u001b[0;34m()\u001b[0m\n\u001b[1;32m    619\u001b[0m                     \u001b[0;31m# Careful not to keep a reference to the popped future\u001b[0m\u001b[0;34m\u001b[0m\u001b[0;34m\u001b[0m\u001b[0m\n\u001b[1;32m    620\u001b[0m                     \u001b[0;32mif\u001b[0m \u001b[0mtimeout\u001b[0m \u001b[0;32mis\u001b[0m \u001b[0;32mNone\u001b[0m\u001b[0;34m:\u001b[0m\u001b[0;34m\u001b[0m\u001b[0;34m\u001b[0m\u001b[0m\n\u001b[0;32m--> 621\u001b[0;31m                         \u001b[0;32myield\u001b[0m \u001b[0m_result_or_cancel\u001b[0m\u001b[0;34m(\u001b[0m\u001b[0mfs\u001b[0m\u001b[0;34m.\u001b[0m\u001b[0mpop\u001b[0m\u001b[0;34m(\u001b[0m\u001b[0;34m)\u001b[0m\u001b[0;34m)\u001b[0m\u001b[0;34m\u001b[0m\u001b[0;34m\u001b[0m\u001b[0m\n\u001b[0m\u001b[1;32m    622\u001b[0m                     \u001b[0;32melse\u001b[0m\u001b[0;34m:\u001b[0m\u001b[0;34m\u001b[0m\u001b[0;34m\u001b[0m\u001b[0m\n\u001b[1;32m    623\u001b[0m                         \u001b[0;32myield\u001b[0m \u001b[0m_result_or_cancel\u001b[0m\u001b[0;34m(\u001b[0m\u001b[0mfs\u001b[0m\u001b[0;34m.\u001b[0m\u001b[0mpop\u001b[0m\u001b[0;34m(\u001b[0m\u001b[0;34m)\u001b[0m\u001b[0;34m,\u001b[0m \u001b[0mend_time\u001b[0m \u001b[0;34m-\u001b[0m \u001b[0mtime\u001b[0m\u001b[0;34m.\u001b[0m\u001b[0mmonotonic\u001b[0m\u001b[0;34m(\u001b[0m\u001b[0;34m)\u001b[0m\u001b[0;34m)\u001b[0m\u001b[0;34m\u001b[0m\u001b[0;34m\u001b[0m\u001b[0m\n",
            "\u001b[0;32m/usr/lib/python3.10/concurrent/futures/_base.py\u001b[0m in \u001b[0;36m_result_or_cancel\u001b[0;34m(***failed resolving arguments***)\u001b[0m\n\u001b[1;32m    317\u001b[0m     \u001b[0;32mtry\u001b[0m\u001b[0;34m:\u001b[0m\u001b[0;34m\u001b[0m\u001b[0;34m\u001b[0m\u001b[0m\n\u001b[1;32m    318\u001b[0m         \u001b[0;32mtry\u001b[0m\u001b[0;34m:\u001b[0m\u001b[0;34m\u001b[0m\u001b[0;34m\u001b[0m\u001b[0m\n\u001b[0;32m--> 319\u001b[0;31m             \u001b[0;32mreturn\u001b[0m \u001b[0mfut\u001b[0m\u001b[0;34m.\u001b[0m\u001b[0mresult\u001b[0m\u001b[0;34m(\u001b[0m\u001b[0mtimeout\u001b[0m\u001b[0;34m)\u001b[0m\u001b[0;34m\u001b[0m\u001b[0;34m\u001b[0m\u001b[0m\n\u001b[0m\u001b[1;32m    320\u001b[0m         \u001b[0;32mfinally\u001b[0m\u001b[0;34m:\u001b[0m\u001b[0;34m\u001b[0m\u001b[0;34m\u001b[0m\u001b[0m\n\u001b[1;32m    321\u001b[0m             \u001b[0mfut\u001b[0m\u001b[0;34m.\u001b[0m\u001b[0mcancel\u001b[0m\u001b[0;34m(\u001b[0m\u001b[0;34m)\u001b[0m\u001b[0;34m\u001b[0m\u001b[0;34m\u001b[0m\u001b[0m\n",
            "\u001b[0;32m/usr/lib/python3.10/concurrent/futures/_base.py\u001b[0m in \u001b[0;36mresult\u001b[0;34m(self, timeout)\u001b[0m\n\u001b[1;32m    451\u001b[0m                     \u001b[0;32mreturn\u001b[0m \u001b[0mself\u001b[0m\u001b[0;34m.\u001b[0m\u001b[0m__get_result\u001b[0m\u001b[0;34m(\u001b[0m\u001b[0;34m)\u001b[0m\u001b[0;34m\u001b[0m\u001b[0;34m\u001b[0m\u001b[0m\n\u001b[1;32m    452\u001b[0m \u001b[0;34m\u001b[0m\u001b[0m\n\u001b[0;32m--> 453\u001b[0;31m                 \u001b[0mself\u001b[0m\u001b[0;34m.\u001b[0m\u001b[0m_condition\u001b[0m\u001b[0;34m.\u001b[0m\u001b[0mwait\u001b[0m\u001b[0;34m(\u001b[0m\u001b[0mtimeout\u001b[0m\u001b[0;34m)\u001b[0m\u001b[0;34m\u001b[0m\u001b[0;34m\u001b[0m\u001b[0m\n\u001b[0m\u001b[1;32m    454\u001b[0m \u001b[0;34m\u001b[0m\u001b[0m\n\u001b[1;32m    455\u001b[0m                 \u001b[0;32mif\u001b[0m \u001b[0mself\u001b[0m\u001b[0;34m.\u001b[0m\u001b[0m_state\u001b[0m \u001b[0;32min\u001b[0m \u001b[0;34m[\u001b[0m\u001b[0mCANCELLED\u001b[0m\u001b[0;34m,\u001b[0m \u001b[0mCANCELLED_AND_NOTIFIED\u001b[0m\u001b[0;34m]\u001b[0m\u001b[0;34m:\u001b[0m\u001b[0;34m\u001b[0m\u001b[0;34m\u001b[0m\u001b[0m\n",
            "\u001b[0;32m/usr/lib/python3.10/threading.py\u001b[0m in \u001b[0;36mwait\u001b[0;34m(self, timeout)\u001b[0m\n\u001b[1;32m    318\u001b[0m         \u001b[0;32mtry\u001b[0m\u001b[0;34m:\u001b[0m    \u001b[0;31m# restore state no matter what (e.g., KeyboardInterrupt)\u001b[0m\u001b[0;34m\u001b[0m\u001b[0;34m\u001b[0m\u001b[0m\n\u001b[1;32m    319\u001b[0m             \u001b[0;32mif\u001b[0m \u001b[0mtimeout\u001b[0m \u001b[0;32mis\u001b[0m \u001b[0;32mNone\u001b[0m\u001b[0;34m:\u001b[0m\u001b[0;34m\u001b[0m\u001b[0;34m\u001b[0m\u001b[0m\n\u001b[0;32m--> 320\u001b[0;31m                 \u001b[0mwaiter\u001b[0m\u001b[0;34m.\u001b[0m\u001b[0macquire\u001b[0m\u001b[0;34m(\u001b[0m\u001b[0;34m)\u001b[0m\u001b[0;34m\u001b[0m\u001b[0;34m\u001b[0m\u001b[0m\n\u001b[0m\u001b[1;32m    321\u001b[0m                 \u001b[0mgotit\u001b[0m \u001b[0;34m=\u001b[0m \u001b[0;32mTrue\u001b[0m\u001b[0;34m\u001b[0m\u001b[0;34m\u001b[0m\u001b[0m\n\u001b[1;32m    322\u001b[0m             \u001b[0;32melse\u001b[0m\u001b[0;34m:\u001b[0m\u001b[0;34m\u001b[0m\u001b[0;34m\u001b[0m\u001b[0m\n",
            "\u001b[0;31mKeyboardInterrupt\u001b[0m: "
          ]
        }
      ]
    },
    {
      "cell_type": "markdown",
      "metadata": {
        "id": "l3xhWnkYXJok"
      },
      "source": [
        "## Masking out pixels\n",
        "This part of the code is reponsible for the masking of building, houses etcetera. It should only store trees\n"
      ]
    },
    {
      "cell_type": "code",
      "execution_count": null,
      "metadata": {
        "id": "R-4XN2eoXLcH"
      },
      "outputs": [],
      "source": []
    }
  ],
  "metadata": {
    "colab": {
      "provenance": [],
      "collapsed_sections": [
        "l3xhWnkYXJok"
      ],
      "include_colab_link": true
    },
    "kernelspec": {
      "display_name": "Python 3",
      "name": "python3"
    },
    "language_info": {
      "name": "python"
    }
  },
  "nbformat": 4,
  "nbformat_minor": 0
}